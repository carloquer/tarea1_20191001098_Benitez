{
 "cells": [
  {
   "cell_type": "markdown",
   "id": "9e0ab4c3-4dde-4d71-b275-2df0240cda4f",
   "metadata": {},
   "source": [
    "DataFrame de Calificaciones de Estudiantes"
   ]
  },
  {
   "cell_type": "markdown",
   "id": "4a23acf2-7576-4a8a-9f80-b9fa9f393763",
   "metadata": {},
   "source": [
    "Importación de Librerías"
   ]
  },
  {
   "cell_type": "code",
   "execution_count": 3,
   "id": "3341ce6f-e4fb-46aa-b816-4ec6fd58a222",
   "metadata": {},
   "outputs": [
    {
     "ename": "ModuleNotFoundError",
     "evalue": "No module named 'pandas'",
     "output_type": "error",
     "traceback": [
      "\u001b[1;31m---------------------------------------------------------------------------\u001b[0m",
      "\u001b[1;31mModuleNotFoundError\u001b[0m                       Traceback (most recent call last)",
      "Cell \u001b[1;32mIn[3], line 1\u001b[0m\n\u001b[1;32m----> 1\u001b[0m \u001b[38;5;28;01mimport\u001b[39;00m \u001b[38;5;21;01mpandas\u001b[39;00m \u001b[38;5;28;01mas\u001b[39;00m \u001b[38;5;21;01mpd\u001b[39;00m\n\u001b[0;32m      2\u001b[0m \u001b[38;5;28;01mimport\u001b[39;00m \u001b[38;5;21;01mrandom\u001b[39;00m\n\u001b[0;32m      3\u001b[0m \u001b[38;5;28;01mfrom\u001b[39;00m \u001b[38;5;21;01mdatetime\u001b[39;00m \u001b[38;5;28;01mimport\u001b[39;00m datetime, timedelta\n",
      "\u001b[1;31mModuleNotFoundError\u001b[0m: No module named 'pandas'"
     ]
    }
   ],
   "source": [
    "import pandas as pd\n",
    "import random\n",
    "from datetime import datetime, timedelta\n",
    "import matplotlib.pyplot as plt\n",
    "import seaborn as sns"
   ]
  },
  {
   "cell_type": "markdown",
   "id": "e40d8d55-b115-42fc-a5db-be7d5d369ee1",
   "metadata": {},
   "source": [
    "Definir Alumnos"
   ]
  },
  {
   "cell_type": "code",
   "execution_count": null,
   "id": "a4e17451-7fc3-410e-aba2-2cfd9d0a1e60",
   "metadata": {},
   "outputs": [],
   "source": [
    "alumno = ['Carlos Benitez', 'Luis Sosa', 'Alexis Vazques','Diana Reyes', 'Alma Zuniga', 'Carlos Flores', 'Enrique Zuniga',\n",
    "          'Alejandro García', 'Beatriz Fernández', 'Carlos Martínez', 'Daniela López','Eduardo Rodríguez', 'Fernanda González', \n",
    "          'Gabriel Hernández', 'Helena Pérez','Ignacio Sánchez', 'Julia Ramírez', 'Kevin Torres', 'Lucía Gómez','Manuel Díaz']"
   ]
  },
  {
   "cell_type": "markdown",
   "id": "7cfb4dc7-b798-408b-a73a-4d440bf7b905",
   "metadata": {},
   "source": [
    "Definir Asignaturas"
   ]
  },
  {
   "cell_type": "code",
   "execution_count": null,
   "id": "3651a255-a34b-49bd-a68f-18fd09d328d9",
   "metadata": {},
   "outputs": [],
   "source": [
    "asignatura  = ['Matemáticas', 'Física', 'Química','Biología', 'Filosofía', 'Geografía', 'Historia', 'Dibujo', 'Arte']"
   ]
  },
  {
   "cell_type": "markdown",
   "id": "b1781aff-0673-4926-a8c0-6ec955d5047d",
   "metadata": {},
   "source": [
    "Generar fechas aleatorias"
   ]
  },
  {
   "cell_type": "code",
   "execution_count": null,
   "id": "aef2cdf6-ba75-478a-9e17-b4ab2b9f6f35",
   "metadata": {},
   "outputs": [],
   "source": [
    "fecha_inicio = datetime.strptime('2023-01-01', '%Y-%m-%d')\n",
    "fecha_final = datetime.strptime('2023-12-31', '%Y-%m-%d')\n",
    "fecha = fecha_final - fecha_inicio"
   ]
  },
  {
   "cell_type": "markdown",
   "id": "a1567d88-52e7-4b8c-a372-296a4b4cc567",
   "metadata": {},
   "source": [
    "Definir Notas"
   ]
  },
  {
   "cell_type": "code",
   "execution_count": null,
   "id": "da77e0bd-c528-4236-af41-d3be3ee1ada0",
   "metadata": {},
   "outputs": [],
   "source": [
    "notas = random.randint(0, 100)"
   ]
  },
  {
   "cell_type": "markdown",
   "id": "ea0ef2e4-adad-4fb4-8839-78c5bdaa1459",
   "metadata": {},
   "source": [
    "Creacion de dataframe"
   ]
  },
  {
   "cell_type": "code",
   "execution_count": null,
   "id": "db03a18c-6ffc-4227-a7ae-7ce0322a1aa0",
   "metadata": {},
   "outputs": [
    {
     "data": {
      "text/html": [
       "<div>\n",
       "<style scoped>\n",
       "    .dataframe tbody tr th:only-of-type {\n",
       "        vertical-align: middle;\n",
       "    }\n",
       "\n",
       "    .dataframe tbody tr th {\n",
       "        vertical-align: top;\n",
       "    }\n",
       "\n",
       "    .dataframe thead th {\n",
       "        text-align: right;\n",
       "    }\n",
       "</style>\n",
       "<table border=\"1\" class=\"dataframe\">\n",
       "  <thead>\n",
       "    <tr style=\"text-align: right;\">\n",
       "      <th></th>\n",
       "      <th>Nombre del Estudiante</th>\n",
       "      <th>Asignatura</th>\n",
       "      <th>Calificación</th>\n",
       "      <th>Fecha de Examen</th>\n",
       "    </tr>\n",
       "  </thead>\n",
       "  <tbody>\n",
       "    <tr>\n",
       "      <th>0</th>\n",
       "      <td>Alejandro García</td>\n",
       "      <td>Matemáticas</td>\n",
       "      <td>0</td>\n",
       "      <td>2023-12-17</td>\n",
       "    </tr>\n",
       "    <tr>\n",
       "      <th>1</th>\n",
       "      <td>Carlos Benitez</td>\n",
       "      <td>Matemáticas</td>\n",
       "      <td>6</td>\n",
       "      <td>2023-11-14</td>\n",
       "    </tr>\n",
       "    <tr>\n",
       "      <th>2</th>\n",
       "      <td>Kevin Torres</td>\n",
       "      <td>Matemáticas</td>\n",
       "      <td>60</td>\n",
       "      <td>2023-04-16</td>\n",
       "    </tr>\n",
       "    <tr>\n",
       "      <th>3</th>\n",
       "      <td>Alma Zuniga</td>\n",
       "      <td>Dibujo</td>\n",
       "      <td>17</td>\n",
       "      <td>2023-08-18</td>\n",
       "    </tr>\n",
       "    <tr>\n",
       "      <th>4</th>\n",
       "      <td>Carlos Flores</td>\n",
       "      <td>Química</td>\n",
       "      <td>91</td>\n",
       "      <td>2023-08-19</td>\n",
       "    </tr>\n",
       "    <tr>\n",
       "      <th>...</th>\n",
       "      <td>...</td>\n",
       "      <td>...</td>\n",
       "      <td>...</td>\n",
       "      <td>...</td>\n",
       "    </tr>\n",
       "    <tr>\n",
       "      <th>2995</th>\n",
       "      <td>Alexis Vazques</td>\n",
       "      <td>Historia</td>\n",
       "      <td>17</td>\n",
       "      <td>2023-10-15</td>\n",
       "    </tr>\n",
       "    <tr>\n",
       "      <th>2996</th>\n",
       "      <td>Eduardo Rodríguez</td>\n",
       "      <td>Historia</td>\n",
       "      <td>92</td>\n",
       "      <td>2023-05-06</td>\n",
       "    </tr>\n",
       "    <tr>\n",
       "      <th>2997</th>\n",
       "      <td>Enrique Zuniga</td>\n",
       "      <td>Filosofía</td>\n",
       "      <td>78</td>\n",
       "      <td>2023-05-24</td>\n",
       "    </tr>\n",
       "    <tr>\n",
       "      <th>2998</th>\n",
       "      <td>Carlos Benitez</td>\n",
       "      <td>Matemáticas</td>\n",
       "      <td>37</td>\n",
       "      <td>2023-07-16</td>\n",
       "    </tr>\n",
       "    <tr>\n",
       "      <th>2999</th>\n",
       "      <td>Gabriel Hernández</td>\n",
       "      <td>Filosofía</td>\n",
       "      <td>61</td>\n",
       "      <td>2023-05-29</td>\n",
       "    </tr>\n",
       "  </tbody>\n",
       "</table>\n",
       "<p>3000 rows × 4 columns</p>\n",
       "</div>"
      ],
      "text/plain": [
       "     Nombre del Estudiante   Asignatura  Calificación Fecha de Examen\n",
       "0         Alejandro García  Matemáticas             0      2023-12-17\n",
       "1           Carlos Benitez  Matemáticas             6      2023-11-14\n",
       "2             Kevin Torres  Matemáticas            60      2023-04-16\n",
       "3              Alma Zuniga       Dibujo            17      2023-08-18\n",
       "4            Carlos Flores      Química            91      2023-08-19\n",
       "...                    ...          ...           ...             ...\n",
       "2995        Alexis Vazques     Historia            17      2023-10-15\n",
       "2996     Eduardo Rodríguez     Historia            92      2023-05-06\n",
       "2997        Enrique Zuniga    Filosofía            78      2023-05-24\n",
       "2998        Carlos Benitez  Matemáticas            37      2023-07-16\n",
       "2999     Gabriel Hernández    Filosofía            61      2023-05-29\n",
       "\n",
       "[3000 rows x 4 columns]"
      ]
     },
     "execution_count": 87,
     "metadata": {},
     "output_type": "execute_result"
    }
   ],
   "source": [
    "data = []\n",
    "for i in range(3000):\n",
    "    alumnos = random.choice(alumno)\n",
    "    asignaturas = random.choice(asignatura)\n",
    "    nota = random.randint(0, 100)\n",
    "    fecha_examen = fecha_inicio + timedelta(days=random.randint(0, fecha.days))\n",
    "    data.append({ \n",
    "        'Nombre del Estudiante': alumnos,\n",
    "        'Asignatura': asignaturas,\n",
    "        'Calificación': nota,\n",
    "        'Fecha de Examen': fecha_examen\n",
    "    })\n",
    "data_frame_notas = pd.DataFrame(data)\n",
    "data_frame_notas.head(3000)\n",
    "         "
   ]
  },
  {
   "cell_type": "code",
   "execution_count": null,
   "id": "bcd30e25-f786-4802-a64b-d8812c415a88",
   "metadata": {},
   "outputs": [
    {
     "data": {
      "text/html": [
       "<div>\n",
       "<style scoped>\n",
       "    .dataframe tbody tr th:only-of-type {\n",
       "        vertical-align: middle;\n",
       "    }\n",
       "\n",
       "    .dataframe tbody tr th {\n",
       "        vertical-align: top;\n",
       "    }\n",
       "\n",
       "    .dataframe thead th {\n",
       "        text-align: right;\n",
       "    }\n",
       "</style>\n",
       "<table border=\"1\" class=\"dataframe\">\n",
       "  <thead>\n",
       "    <tr style=\"text-align: right;\">\n",
       "      <th></th>\n",
       "      <th>Calificación</th>\n",
       "      <th>Fecha de Examen</th>\n",
       "    </tr>\n",
       "  </thead>\n",
       "  <tbody>\n",
       "    <tr>\n",
       "      <th>count</th>\n",
       "      <td>3000.000000</td>\n",
       "      <td>3000</td>\n",
       "    </tr>\n",
       "    <tr>\n",
       "      <th>mean</th>\n",
       "      <td>50.020000</td>\n",
       "      <td>2023-07-03 08:40:19.200000</td>\n",
       "    </tr>\n",
       "    <tr>\n",
       "      <th>min</th>\n",
       "      <td>0.000000</td>\n",
       "      <td>2023-01-01 00:00:00</td>\n",
       "    </tr>\n",
       "    <tr>\n",
       "      <th>25%</th>\n",
       "      <td>25.000000</td>\n",
       "      <td>2023-04-05 00:00:00</td>\n",
       "    </tr>\n",
       "    <tr>\n",
       "      <th>50%</th>\n",
       "      <td>50.000000</td>\n",
       "      <td>2023-07-05 00:00:00</td>\n",
       "    </tr>\n",
       "    <tr>\n",
       "      <th>75%</th>\n",
       "      <td>75.000000</td>\n",
       "      <td>2023-10-01 00:00:00</td>\n",
       "    </tr>\n",
       "    <tr>\n",
       "      <th>max</th>\n",
       "      <td>100.000000</td>\n",
       "      <td>2023-12-31 00:00:00</td>\n",
       "    </tr>\n",
       "    <tr>\n",
       "      <th>std</th>\n",
       "      <td>28.763914</td>\n",
       "      <td>NaN</td>\n",
       "    </tr>\n",
       "  </tbody>\n",
       "</table>\n",
       "</div>"
      ],
      "text/plain": [
       "       Calificación             Fecha de Examen\n",
       "count   3000.000000                        3000\n",
       "mean      50.020000  2023-07-03 08:40:19.200000\n",
       "min        0.000000         2023-01-01 00:00:00\n",
       "25%       25.000000         2023-04-05 00:00:00\n",
       "50%       50.000000         2023-07-05 00:00:00\n",
       "75%       75.000000         2023-10-01 00:00:00\n",
       "max      100.000000         2023-12-31 00:00:00\n",
       "std       28.763914                         NaN"
      ]
     },
     "execution_count": 89,
     "metadata": {},
     "output_type": "execute_result"
    }
   ],
   "source": [
    "data_frame_notas.describe()"
   ]
  },
  {
   "cell_type": "markdown",
   "id": "16cba26b-79ab-4d52-9917-e184455741a5",
   "metadata": {},
   "source": [
    "Resumen estadístico para variables categóricas"
   ]
  },
  {
   "cell_type": "code",
   "execution_count": null,
   "id": "c36ea008-2b44-4f05-8d5b-c7679a7ff26d",
   "metadata": {},
   "outputs": [
    {
     "name": "stdout",
     "output_type": "stream",
     "text": [
      "Resumen estadístico de variables categóricas:\n",
      "       Nombre del Estudiante Asignatura\n",
      "count                   3000       3000\n",
      "unique                    20          9\n",
      "top              Diana Reyes    Química\n",
      "freq                     165        365\n"
     ]
    }
   ],
   "source": [
    "resumen_categoria = data_frame_notas.describe(include=['O'])\n",
    "print(\"Resumen estadístico de variables categóricas:\")\n",
    "print(resumen_categoria)"
   ]
  },
  {
   "cell_type": "markdown",
   "id": "bb01dcfb-60fc-4b57-b21b-2ee70bbfdba7",
   "metadata": {},
   "source": [
    "Conteo de frecuencias para 'Nombre del Estudiante'"
   ]
  },
  {
   "cell_type": "code",
   "execution_count": null,
   "id": "ef77e0a4-ef70-480c-87d2-75ecd35d8bd5",
   "metadata": {},
   "outputs": [
    {
     "name": "stdout",
     "output_type": "stream",
     "text": [
      "\n",
      "Conteo de frecuencias para 'Nombre del Estudiante':\n",
      "Nombre del Estudiante\n",
      "Diana Reyes          165\n",
      "Carlos Martínez      163\n",
      "Eduardo Rodríguez    163\n",
      "Julia Ramírez        162\n",
      "Daniela López        156\n",
      "Beatriz Fernández    155\n",
      "Manuel Díaz          152\n",
      "Luis Sosa            151\n",
      "Lucía Gómez          151\n",
      "Fernanda González    150\n",
      "Alexis Vazques       149\n",
      "Carlos Flores        148\n",
      "Alejandro García     146\n",
      "Enrique Zuniga       145\n",
      "Helena Pérez         142\n",
      "Gabriel Hernández    142\n",
      "Alma Zuniga          142\n",
      "Kevin Torres         142\n",
      "Carlos Benitez       139\n",
      "Ignacio Sánchez      137\n",
      "Name: count, dtype: int64\n"
     ]
    }
   ],
   "source": [
    "conteo_estudiantes = data_frame_notas['Nombre del Estudiante'].value_counts()\n",
    "print(\"\\nConteo de frecuencias para 'Nombre del Estudiante':\")\n",
    "print(conteo_estudiantes)"
   ]
  },
  {
   "cell_type": "markdown",
   "id": "1f01a4b1-4635-458e-b700-31d60424b7a0",
   "metadata": {},
   "source": [
    "Conteo de frecuencias para 'Asignatura'"
   ]
  },
  {
   "cell_type": "code",
   "execution_count": null,
   "id": "c2821214-495e-4777-bda2-22646771fbbe",
   "metadata": {},
   "outputs": [
    {
     "name": "stdout",
     "output_type": "stream",
     "text": [
      "\n",
      "Conteo de frecuencias para 'Asignatura':\n",
      "Asignatura\n",
      "Química        365\n",
      "Geografía      356\n",
      "Arte           346\n",
      "Biología       337\n",
      "Historia       325\n",
      "Matemáticas    324\n",
      "Filosofía      323\n",
      "Física         314\n",
      "Dibujo         310\n",
      "Name: count, dtype: int64\n"
     ]
    }
   ],
   "source": [
    "conteo_asignaturas = data_frame_notas['Asignatura'].value_counts()\n",
    "print(\"\\nConteo de frecuencias para 'Asignatura':\")\n",
    "print(conteo_asignaturas)"
   ]
  },
  {
   "cell_type": "markdown",
   "id": "906799f4-9d7c-42a3-af67-3bd38cedf49a",
   "metadata": {},
   "source": [
    "Crear histogramas para la variable numérica 'Calificación'"
   ]
  },
  {
   "cell_type": "code",
   "execution_count": null,
   "id": "f770594d-f4ca-48c2-a9e7-81b94211ff9b",
   "metadata": {},
   "outputs": [
    {
     "data": {
      "image/png": "[encoded data removed]",
      "text/plain": [
       "<Figure size 1000x600 with 1 Axes>"
      ]
     },
     "metadata": {},
     "output_type": "display_data"
    }
   ],
   "source": [
    "plt.figure(figsize=(10, 6))\n",
    "sns.histplot(data_frame_notas['Calificación'], bins=20, kde=True)\n",
    "plt.title('Distribución de Calificaciones')\n",
    "plt.xlabel('Calificación')\n",
    "plt.ylabel('Frecuencia')\n",
    "plt.show()"
   ]
  }
 ],
 "metadata": {
  "kernelspec": {
   "display_name": "Python 3",
   "language": "python",
   "name": "python3"
  },
  "language_info": {
   "codemirror_mode": {
    "name": "ipython",
    "version": 3
   },
   "file_extension": ".py",
   "mimetype": "text/x-python",
   "name": "python",
   "nbconvert_exporter": "python",
   "pygments_lexer": "ipython3",
   "version": "3.12.3"
  }
 },
 "nbformat": 4,
 "nbformat_minor": 5
}
